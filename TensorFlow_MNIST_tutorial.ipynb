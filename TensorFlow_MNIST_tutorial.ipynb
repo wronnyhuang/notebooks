{
  "nbformat": 4,
  "nbformat_minor": 0,
  "metadata": {
    "colab": {
      "name": "TensorFlow MNIST tutorial.ipynb",
      "version": "0.3.2",
      "provenance": [],
      "collapsed_sections": [],
      "include_colab_link": true
    },
    "kernelspec": {
      "display_name": "Python 2",
      "language": "python",
      "name": "python2"
    }
  },
  "cells": [
    {
      "cell_type": "markdown",
      "metadata": {
        "id": "view-in-github",
        "colab_type": "text"
      },
      "source": [
        "[![Open In Colab](https://colab.research.google.com/assets/colab-badge.svg)](https://colab.research.google.com/github/wronnyhuang/notebooks/blob/master/TensorFlow_MNIST_tutorial.ipynb)"
      ]
    },
    {
      "metadata": {
        "id": "sXu10dUCGuYZ",
        "colab_type": "text"
      },
      "cell_type": "markdown",
      "source": [
        "# TensorFlow Demo: MNIST for ML Beginners\n",
        "Before start using this, please select `Cell` - `All Output` - `Clear` to clear the old results. See [TensorFlow Tutorial](https://www.tensorflow.org/versions/master/tutorials/mnist/beginners/index.html) for details of the tutorial.\n",
        "\n",
        "# Loading MNIST training data"
      ]
    },
    {
      "metadata": {
        "id": "k3nfQPZFLdNo",
        "colab_type": "code",
        "colab": {
          "base_uri": "https://localhost:8080/",
          "height": 34
        },
        "outputId": "7ecc32fd-05ce-441d-b91c-e4900e0dbd98"
      },
      "cell_type": "code",
      "source": [
        "! rm -rf *\n",
        "%reset"
      ],
      "execution_count": 2,
      "outputs": [
        {
          "output_type": "stream",
          "text": [
            "Once deleted, variables cannot be recovered. Proceed (y/[n])? y\n"
          ],
          "name": "stdout"
        }
      ]
    },
    {
      "metadata": {
        "id": "Ab_uZWkhGuYb",
        "colab_type": "code",
        "colab": {
          "base_uri": "https://localhost:8080/",
          "height": 530
        },
        "outputId": "d16707dd-fba1-4891-8763-48ef94fda9b2"
      },
      "cell_type": "code",
      "source": [
        "# import matplotlib and numpy\n",
        "import numpy as np\n",
        "import matplotlib.pyplot as plt\n",
        "%matplotlib inline\n",
        "\n",
        "# import MNIST data\n",
        "from tensorflow.examples.tutorials.mnist import input_data\n",
        "mnist = input_data.read_data_sets(\"MNIST_data/\", one_hot=True)"
      ],
      "execution_count": 3,
      "outputs": [
        {
          "output_type": "stream",
          "text": [
            "WARNING:tensorflow:From <ipython-input-3-254755f77570>:7: read_data_sets (from tensorflow.contrib.learn.python.learn.datasets.mnist) is deprecated and will be removed in a future version.\n",
            "Instructions for updating:\n",
            "Please use alternatives such as official/mnist/dataset.py from tensorflow/models.\n",
            "WARNING:tensorflow:From /usr/local/lib/python2.7/dist-packages/tensorflow/contrib/learn/python/learn/datasets/mnist.py:260: maybe_download (from tensorflow.contrib.learn.python.learn.datasets.base) is deprecated and will be removed in a future version.\n",
            "Instructions for updating:\n",
            "Please write your own downloading logic.\n",
            "WARNING:tensorflow:From /usr/local/lib/python2.7/dist-packages/tensorflow/contrib/learn/python/learn/datasets/base.py:252: wrapped_fn (from tensorflow.contrib.learn.python.learn.datasets.base) is deprecated and will be removed in a future version.\n",
            "Instructions for updating:\n",
            "Please use urllib or similar directly.\n",
            "Successfully downloaded train-images-idx3-ubyte.gz 9912422 bytes.\n",
            "WARNING:tensorflow:From /usr/local/lib/python2.7/dist-packages/tensorflow/contrib/learn/python/learn/datasets/mnist.py:262: extract_images (from tensorflow.contrib.learn.python.learn.datasets.mnist) is deprecated and will be removed in a future version.\n",
            "Instructions for updating:\n",
            "Please use tf.data to implement this functionality.\n",
            "Extracting MNIST_data/train-images-idx3-ubyte.gz\n",
            "Successfully downloaded train-labels-idx1-ubyte.gz 28881 bytes.\n",
            "WARNING:tensorflow:From /usr/local/lib/python2.7/dist-packages/tensorflow/contrib/learn/python/learn/datasets/mnist.py:267: extract_labels (from tensorflow.contrib.learn.python.learn.datasets.mnist) is deprecated and will be removed in a future version.\n",
            "Instructions for updating:\n",
            "Please use tf.data to implement this functionality.\n",
            "Extracting MNIST_data/train-labels-idx1-ubyte.gz\n",
            "WARNING:tensorflow:From /usr/local/lib/python2.7/dist-packages/tensorflow/contrib/learn/python/learn/datasets/mnist.py:110: dense_to_one_hot (from tensorflow.contrib.learn.python.learn.datasets.mnist) is deprecated and will be removed in a future version.\n",
            "Instructions for updating:\n",
            "Please use tf.one_hot on tensors.\n",
            "Successfully downloaded t10k-images-idx3-ubyte.gz 1648877 bytes.\n",
            "Extracting MNIST_data/t10k-images-idx3-ubyte.gz\n",
            "Successfully downloaded t10k-labels-idx1-ubyte.gz 4542 bytes.\n",
            "Extracting MNIST_data/t10k-labels-idx1-ubyte.gz\n",
            "WARNING:tensorflow:From /usr/local/lib/python2.7/dist-packages/tensorflow/contrib/learn/python/learn/datasets/mnist.py:290: __init__ (from tensorflow.contrib.learn.python.learn.datasets.mnist) is deprecated and will be removed in a future version.\n",
            "Instructions for updating:\n",
            "Please use alternatives such as official/mnist/dataset.py from tensorflow/models.\n"
          ],
          "name": "stdout"
        }
      ]
    },
    {
      "metadata": {
        "id": "ljRzztMn2B8L",
        "colab_type": "code",
        "colab": {
          "base_uri": "https://localhost:8080/",
          "height": 34
        },
        "outputId": "201b612e-9da2-44c9-a465-98556ecbcfe7"
      },
      "cell_type": "code",
      "source": [
        "# introspect the dataset object\n",
        "import sys\n",
        "sys.getsizeof(mnist.train.images)"
      ],
      "execution_count": 4,
      "outputs": [
        {
          "output_type": "execute_result",
          "data": {
            "text/plain": [
              "172480112"
            ]
          },
          "metadata": {
            "tags": []
          },
          "execution_count": 4
        }
      ]
    },
    {
      "metadata": {
        "id": "Yp0IhlFHGuYe",
        "colab_type": "text"
      },
      "cell_type": "markdown",
      "source": [
        "## Training Images\n",
        "![mnist.train.xs](https://www.tensorflow.org/versions/master/images/mnist-train-xs.png)"
      ]
    },
    {
      "metadata": {
        "id": "exjsAkDUGuYe",
        "colab_type": "code",
        "colab": {
          "base_uri": "https://localhost:8080/",
          "height": 34
        },
        "outputId": "8655cce6-49ee-4738-da5f-875d6af74a0a"
      },
      "cell_type": "code",
      "source": [
        "# check MNIST training images matrix shape\n",
        "mnist.train.images.shape"
      ],
      "execution_count": 5,
      "outputs": [
        {
          "output_type": "execute_result",
          "data": {
            "text/plain": [
              "(55000, 784)"
            ]
          },
          "metadata": {
            "tags": []
          },
          "execution_count": 5
        }
      ]
    },
    {
      "metadata": {
        "id": "W5ZGLxHeGuYi",
        "colab_type": "code",
        "colab": {
          "base_uri": "https://localhost:8080/",
          "height": 286
        },
        "outputId": "4f667e6c-41c4-47b9-bb35-71b380bcb301"
      },
      "cell_type": "code",
      "source": [
        "# check MNIST training images matrix data\n",
        "sample_img = mnist.train.images[5].reshape(28, 28)\n",
        "\n",
        "# plot the image\n",
        "plt.imshow(sample_img).set_cmap('Greys')\n",
        "plt.colorbar()"
      ],
      "execution_count": 6,
      "outputs": [
        {
          "output_type": "execute_result",
          "data": {
            "text/plain": [
              "<matplotlib.colorbar.Colorbar at 0x7f6426afa050>"
            ]
          },
          "metadata": {
            "tags": []
          },
          "execution_count": 6
        },
        {
          "output_type": "display_data",
          "data": {
            "image/png": "[encoded data removed]",
            "text/plain": [
              "<matplotlib.figure.Figure at 0x7f64363f7a90>"
            ]
          },
          "metadata": {
            "tags": []
          }
        }
      ]
    },
    {
      "metadata": {
        "id": "Wit_x3bgGuYp",
        "colab_type": "text"
      },
      "cell_type": "markdown",
      "source": [
        "## Training Labels\n",
        "![mnist.train.ys](https://www.tensorflow.org/versions/master/images/mnist-train-ys.png)"
      ]
    },
    {
      "metadata": {
        "id": "L8gZZSMNGuYq",
        "colab_type": "code",
        "colab": {
          "base_uri": "https://localhost:8080/",
          "height": 34
        },
        "outputId": "823e7ee8-0f64-4b4d-afb3-50764b073475"
      },
      "cell_type": "code",
      "source": [
        "# check MNIST labels shape\n",
        "mnist.train.labels.shape"
      ],
      "execution_count": 7,
      "outputs": [
        {
          "output_type": "execute_result",
          "data": {
            "text/plain": [
              "(55000, 10)"
            ]
          },
          "metadata": {
            "tags": []
          },
          "execution_count": 7
        }
      ]
    },
    {
      "metadata": {
        "id": "sXHMBrCOGuYu",
        "colab_type": "code",
        "colab": {
          "base_uri": "https://localhost:8080/",
          "height": 34
        },
        "outputId": "097b43a8-02c0-4f23-9df1-8f808a97ff21"
      },
      "cell_type": "code",
      "source": [
        "# show MNIST label data\n",
        "sample_label = mnist.train.labels[5]\n",
        "sample_label"
      ],
      "execution_count": 8,
      "outputs": [
        {
          "output_type": "execute_result",
          "data": {
            "text/plain": [
              "array([0., 0., 0., 0., 0., 0., 0., 0., 1., 0.])"
            ]
          },
          "metadata": {
            "tags": []
          },
          "execution_count": 8
        }
      ]
    },
    {
      "metadata": {
        "id": "lGNOuoogGuYx",
        "colab_type": "text"
      },
      "cell_type": "markdown",
      "source": [
        "# Defining a Neural Network"
      ]
    },
    {
      "metadata": {
        "id": "dM0PEXdeGuYy",
        "colab_type": "text"
      },
      "cell_type": "markdown",
      "source": [
        "## in a graph:\n",
        "![](https://www.tensorflow.org/versions/master/images/softmax-regression-scalargraph.png)\n",
        "\n",
        "## in a vector equation:\n",
        "![](https://www.tensorflow.org/versions/master/images/softmax-regression-vectorequation.png)\n",
        "\n",
        "## so that we'll have the weights like this:\n",
        "blue: positive weights, red: negative weights\n",
        "![](https://www.tensorflow.org/versions/master/images/softmax-weights.png)"
      ]
    },
    {
      "metadata": {
        "id": "AV1n3xZYGuYz",
        "colab_type": "code",
        "colab": {
          "base_uri": "https://localhost:8080/",
          "height": 34
        },
        "outputId": "9c9cf44c-c911-4e42-ba58-509174ed06d5"
      },
      "cell_type": "code",
      "source": [
        "# define a neural network (softmax logistic regression)\n",
        "import tensorflow as tf\n",
        "x = tf.placeholder(tf.float32, [None, 784])\n",
        "W = tf.Variable(tf.zeros([784, 10]))\n",
        "b = tf.Variable(tf.zeros([10]))\n",
        "y = tf.nn.softmax(tf.matmul(x, W) + b) # the equation\n",
        "y"
      ],
      "execution_count": 9,
      "outputs": [
        {
          "output_type": "execute_result",
          "data": {
            "text/plain": [
              "<tf.Tensor 'Softmax:0' shape=(?, 10) dtype=float32>"
            ]
          },
          "metadata": {
            "tags": []
          },
          "execution_count": 9
        }
      ]
    },
    {
      "metadata": {
        "id": "BCx9gz24GuY3",
        "colab_type": "text"
      },
      "cell_type": "markdown",
      "source": [
        "# Defining the Train Step"
      ]
    },
    {
      "metadata": {
        "id": "CBTiv6eCGuY3",
        "colab_type": "code",
        "colab": {
          "base_uri": "https://localhost:8080/",
          "height": 34
        },
        "outputId": "ab316bf8-2133-4016-f452-4bc0e6bc81e7"
      },
      "cell_type": "code",
      "source": [
        "# define the train step to minimize the cross entropy with SGD\n",
        "y_ = tf.placeholder(tf.float32, [None, 10])\n",
        "cross_entropy = -tf.reduce_sum(y_*tf.log(y))\n",
        "train_step = tf.train.GradientDescentOptimizer(learning_rate=0.01).minimize(cross_entropy)\n",
        "train_step"
      ],
      "execution_count": 10,
      "outputs": [
        {
          "output_type": "execute_result",
          "data": {
            "text/plain": [
              "<tf.Operation 'GradientDescent' type=NoOp>"
            ]
          },
          "metadata": {
            "tags": []
          },
          "execution_count": 10
        }
      ]
    },
    {
      "metadata": {
        "id": "p0rLNLaBGuY6",
        "colab_type": "text"
      },
      "cell_type": "markdown",
      "source": [
        "## Use Gradient Decent to find the optimal weights\n",
        "![](http://blog.datumbox.com/wp-content/uploads/2013/10/gradient-descent.png)\n",
        "From: [Machine Learning Blog & Software Development News](http://blog.datumbox.com/tuning-the-learning-rate-in-gradient-descent/)"
      ]
    },
    {
      "metadata": {
        "id": "NitwvBAnGuY7",
        "colab_type": "text"
      },
      "cell_type": "markdown",
      "source": [
        "# Do 1000 times of mini-batch training"
      ]
    },
    {
      "metadata": {
        "id": "NaubN-6VGuY9",
        "colab_type": "code",
        "colab": {
          "base_uri": "https://localhost:8080/",
          "height": 258
        },
        "outputId": "a47bd74c-bf8b-4104-b6ce-1e87132c560e"
      },
      "cell_type": "code",
      "source": [
        "# initialize variables and session\n",
        "init = tf.initialize_all_variables()\n",
        "sess = tf.Session()\n",
        "sess.run(init)\n",
        "\n",
        "# train the model mini batch with 100 elements, for 1K times\n",
        "for i in range(1000):\n",
        "    batch_xs, batch_ys = mnist.train.next_batch(batch_size=100)\n",
        "    sess.run(train_step, feed_dict={x: batch_xs, y_: batch_ys})\n",
        "    if np.mod(i,100)==0: print('minibatch #: '+str(i))"
      ],
      "execution_count": 11,
      "outputs": [
        {
          "output_type": "stream",
          "text": [
            "WARNING:tensorflow:From /usr/local/lib/python2.7/dist-packages/tensorflow/python/util/tf_should_use.py:189: initialize_all_variables (from tensorflow.python.ops.variables) is deprecated and will be removed after 2017-03-02.\n",
            "Instructions for updating:\n",
            "Use `tf.global_variables_initializer` instead.\n",
            "minibatch #: 0\n",
            "minibatch #: 100\n",
            "minibatch #: 200\n",
            "minibatch #: 300\n",
            "minibatch #: 400\n",
            "minibatch #: 500\n",
            "minibatch #: 600\n",
            "minibatch #: 700\n",
            "minibatch #: 800\n",
            "minibatch #: 900\n"
          ],
          "name": "stdout"
        }
      ]
    },
    {
      "metadata": {
        "id": "xw9pnraTGuY_",
        "colab_type": "text"
      },
      "cell_type": "markdown",
      "source": [
        "# Test"
      ]
    },
    {
      "metadata": {
        "id": "dB0LcyY2GuZB",
        "colab_type": "code",
        "colab": {
          "base_uri": "https://localhost:8080/",
          "height": 34
        },
        "outputId": "330cb201-32c5-4b74-a1d5-b4471dee5a6b"
      },
      "cell_type": "code",
      "source": [
        "# evaluate the accuracy of the model\n",
        "correct_prediction = tf.equal(tf.argmax(y,1), tf.argmax(y_,1))\n",
        "accuracy = tf.reduce_mean(tf.cast(correct_prediction, \"float\"))\n",
        "print(sess.run(accuracy, feed_dict={x: mnist.test.images, y_: mnist.test.labels}))"
      ],
      "execution_count": 12,
      "outputs": [
        {
          "output_type": "stream",
          "text": [
            "0.9135\n"
          ],
          "name": "stdout"
        }
      ]
    },
    {
      "metadata": {
        "id": "ATAsY7xn-0hH",
        "colab_type": "code",
        "colab": {
          "base_uri": "https://localhost:8080/",
          "height": 320
        },
        "outputId": "2867356e-b819-4f4a-caec-015271cebf1b"
      },
      "cell_type": "code",
      "source": [
        "# do a demonstration\n",
        "idx = 9\n",
        "sample_image = mnist.test.images[idx].reshape(28,28)\n",
        "sample_label = mnist.test.labels[idx]\n",
        "sample_prediction = sess.run(y, feed_dict={x: sample_image.reshape(1,-1)})\n",
        "print('sample_prediction = '+str(np.argmax(sample_prediction)))\n",
        "print('sample_label = '+str(np.argmax(sample_label)))\n",
        "plt.imshow(sample_image).set_cmap('Greys')\n",
        "plt.colorbar()"
      ],
      "execution_count": 13,
      "outputs": [
        {
          "output_type": "stream",
          "text": [
            "sample_prediction = 9\n",
            "sample_label = 9\n"
          ],
          "name": "stdout"
        },
        {
          "output_type": "execute_result",
          "data": {
            "text/plain": [
              "<matplotlib.colorbar.Colorbar at 0x7f642192f210>"
            ]
          },
          "metadata": {
            "tags": []
          },
          "execution_count": 13
        },
        {
          "output_type": "display_data",
          "data": {
            "image/png": "[encoded data removed]",
            "text/plain": [
              "<matplotlib.figure.Figure at 0x7f6426acb050>"
            ]
          },
          "metadata": {
            "tags": []
          }
        }
      ]
    },
    {
      "metadata": {
        "id": "tb30y345BebH",
        "colab_type": "code",
        "colab": {
          "base_uri": "https://localhost:8080/",
          "height": 316
        },
        "outputId": "b88ca713-1019-49d5-91f3-5331d0417f5c"
      },
      "cell_type": "code",
      "source": [
        "# do some analysis\n",
        "print('sample_prediction = '+str(sample_prediction))\n",
        "weights = sess.run(W).reshape(28,28,10)\n",
        "plt.imshow(weights[:,:,0])\n",
        "plt.colorbar()"
      ],
      "execution_count": 17,
      "outputs": [
        {
          "output_type": "stream",
          "text": [
            "sample_prediction = [[3.6434299e-06 7.1318224e-10 1.5608934e-07 8.4247858e-07 1.4475590e-02\n",
            "  2.4886338e-05 2.2826937e-06 7.9938054e-02 6.8072556e-03 8.9874721e-01]]\n"
          ],
          "name": "stdout"
        },
        {
          "output_type": "execute_result",
          "data": {
            "text/plain": [
              "<matplotlib.colorbar.Colorbar at 0x7f64215e4e90>"
            ]
          },
          "metadata": {
            "tags": []
          },
          "execution_count": 17
        },
        {
          "output_type": "display_data",
          "data": {
            "image/png": "[encoded data removed]",
            "text/plain": [
              "<matplotlib.figure.Figure at 0x7f642183af90>"
            ]
          },
          "metadata": {
            "tags": []
          }
        }
      ]
    },
    {
      "metadata": {
        "id": "DGNzoZTOGuZC",
        "colab_type": "text"
      },
      "cell_type": "markdown",
      "source": [
        "# Visualizing with TensorBoard\n",
        "\n",
        "See [TensorBoard tutorial](https://www.tensorflow.org/versions/master/how_tos/summaries_and_tensorboard/index.html) for documentation."
      ]
    },
    {
      "metadata": {
        "id": "OCITqYolLkXG",
        "colab_type": "text"
      },
      "cell_type": "markdown",
      "source": [
        "**Activate tensorboard**\n",
        "Run a few shell commands to tell tensorboard to start reading from the logs folder (where tensorflow will store the intermediate values). Then a few commands tells tensorboard to tunnel the data to a link that we can access "
      ]
    },
    {
      "metadata": {
        "id": "MjLqxR3QHmWw",
        "colab_type": "code",
        "colab": {
          "base_uri": "https://localhost:8080/",
          "height": 235
        },
        "outputId": "c11bda58-bd1b-4399-b32e-9cf559055a98"
      },
      "cell_type": "code",
      "source": [
        "# download and install ngrok\n",
        "! wget https://bin.equinox.io/c/4VmDzA7iaHb/ngrok-stable-linux-amd64.zip\n",
        "! unzip ngrok-stable-linux-amd64.zip"
      ],
      "execution_count": 0,
      "outputs": [
        {
          "output_type": "stream",
          "text": [
            "--2018-08-28 23:52:41--  https://bin.equinox.io/c/4VmDzA7iaHb/ngrok-stable-linux-amd64.zip\r\n",
            "Resolving bin.equinox.io (bin.equinox.io)... 34.204.22.7, 34.206.253.53, 52.20.145.121, ...\n",
            "Connecting to bin.equinox.io (bin.equinox.io)|34.204.22.7|:443... connected.\n",
            "HTTP request sent, awaiting response... 200 OK\n",
            "Length: 5363700 (5.1M) [application/octet-stream]\n",
            "Saving to: ‘ngrok-stable-linux-amd64.zip’\n",
            "\n",
            "ngrok-stable-linux- 100%[===================>]   5.11M  10.1MB/s    in 0.5s    \n",
            "\n",
            "2018-08-28 23:52:41 (10.1 MB/s) - ‘ngrok-stable-linux-amd64.zip’ saved [5363700/5363700]\n",
            "\n",
            "Archive:  ngrok-stable-linux-amd64.zip\n",
            "  inflating: ngrok                   \n"
          ],
          "name": "stdout"
        }
      ]
    },
    {
      "metadata": {
        "id": "8Nyc7QQ6H4q3",
        "colab_type": "code",
        "colab": {}
      },
      "cell_type": "code",
      "source": [
        "# start tensorboard on colab server\n",
        "LOG_DIR = './log'\n",
        "get_ipython().system_raw(\n",
        "    'tensorboard --logdir {} --host 0.0.0.0 --port 6006 &'\n",
        "    .format(LOG_DIR)\n",
        ")\n",
        "\n",
        "# tunnel tensorboard from colab servers to outside world\n",
        "get_ipython().system_raw('./ngrok http 6006 &')\n",
        "\n",
        "# get url to the ngrok server\n",
        "! curl -s http://localhost:4040/api/tunnels | python3 -c \\\n",
        "    \"import sys, json; print(json.load(sys.stdin)['tunnels'][0]['public_url'])\""
      ],
      "execution_count": 0,
      "outputs": []
    },
    {
      "metadata": {
        "id": "KkvKMRMZLyqs",
        "colab_type": "text"
      },
      "cell_type": "markdown",
      "source": [
        "**Rebuild Graph**\n",
        "First we will start over and rebuild our graph. This time, however, we store important variables to file using tf.summary"
      ]
    },
    {
      "metadata": {
        "id": "4valuDTvEoVQ",
        "colab_type": "code",
        "colab": {}
      },
      "cell_type": "code",
      "source": [
        "# -------- CODE FROM BEFORE --------\n",
        "\n",
        "tf.reset_default_graph()\n",
        "import tensorflow as tf\n",
        "\n",
        "# define a neural network (softmax logistic regression)\n",
        "x = tf.placeholder(tf.float32, [None, 784], name='input_image')\n",
        "W = tf.Variable(tf.zeros([784, 10]), name='weights')\n",
        "b = tf.Variable(tf.zeros([10]), name='bias')\n",
        "y = tf.nn.softmax(tf.matmul(x, W) + b, name='softmax') # the equation\n",
        "\n",
        "# define the train step to minimize the cross entropy with SGD\n",
        "y_ = tf.placeholder(tf.float32, [None, 10])\n",
        "cross_entropy = -tf.reduce_sum(y_*tf.log(y))\n",
        "train_step = tf.train.GradientDescentOptimizer(learning_rate=0.01).minimize(cross_entropy)\n",
        "\n",
        "# evaluate the accuracy of the model\n",
        "correct_prediction = tf.equal(tf.argmax(y,1), tf.argmax(y_,1))\n",
        "accuracy = tf.reduce_mean(tf.cast(correct_prediction, \"float\"))"
      ],
      "execution_count": 0,
      "outputs": []
    },
    {
      "metadata": {
        "id": "JX9qUtSEML9R",
        "colab_type": "code",
        "colab": {
          "base_uri": "https://localhost:8080/",
          "height": 1697
        },
        "outputId": "a25d71f8-fb15-46a4-8237-dd427cef2187"
      },
      "cell_type": "code",
      "source": [
        "# ---------- NEW CODE --------\n",
        "import time\n",
        "! rm -rf log\n",
        "\n",
        "# store data for tensorboard visualization\n",
        "tf.summary.scalar('accuracy', accuracy)\n",
        "tf.summary.scalar('cross_entropy', cross_entropy)\n",
        "weights_summary = tf.reshape(tf.transpose(W), [10,28,28,1])\n",
        "tf.summary.image('weights', weights_summary)\n",
        "merged = tf.summary.merge_all()\n",
        "\n",
        "# close previous session, initialize variables and session\n",
        "init = tf.initialize_all_variables()\n",
        "sess = tf.Session()\n",
        "sess.run(init)\n",
        "train_writer = tf.summary.FileWriter('./log' + '/train', sess.graph)\n",
        "test_writer = tf.summary.FileWriter('./log' + '/test', sess.graph)\n",
        "\n",
        "# train the model mini batch with 100 elements, for 1K times\n",
        "for i in range(1000):\n",
        "  \n",
        "    # train step\n",
        "    batch_xs, batch_ys = mnist.train.next_batch(batch_size=100)\n",
        "    summaries, _ = sess.run([merged, train_step], feed_dict={x: batch_xs, y_: batch_ys})\n",
        "    train_writer.add_summary(summaries, i)\n",
        "\n",
        "    # test step\n",
        "    batch_xs, batch_ys = mnist.train.images, mnist.train.labels\n",
        "    summaries = sess.run(merged, feed_dict={x: batch_xs, y_: batch_ys})\n",
        "    test_writer.add_summary(summaries, i)\n",
        "    \n",
        "    # print every 10 iterations\n",
        "    if np.mod(i,10)==0: print('minibatch #: '+str(i))\n",
        "    time.sleep(0)"
      ],
      "execution_count": 0,
      "outputs": [
        {
          "output_type": "stream",
          "text": [
            "minibatch #: 0\n",
            "minibatch #: 10\n",
            "minibatch #: 20\n",
            "minibatch #: 30\n",
            "minibatch #: 40\n",
            "minibatch #: 50\n",
            "minibatch #: 60\n",
            "minibatch #: 70\n",
            "minibatch #: 80\n",
            "minibatch #: 90\n",
            "minibatch #: 100\n",
            "minibatch #: 110\n",
            "minibatch #: 120\n",
            "minibatch #: 130\n",
            "minibatch #: 140\n",
            "minibatch #: 150\n",
            "minibatch #: 160\n",
            "minibatch #: 170\n",
            "minibatch #: 180\n",
            "minibatch #: 190\n",
            "minibatch #: 200\n",
            "minibatch #: 210\n",
            "minibatch #: 220\n",
            "minibatch #: 230\n",
            "minibatch #: 240\n",
            "minibatch #: 250\n",
            "minibatch #: 260\n",
            "minibatch #: 270\n",
            "minibatch #: 280\n",
            "minibatch #: 290\n",
            "minibatch #: 300\n",
            "minibatch #: 310\n",
            "minibatch #: 320\n",
            "minibatch #: 330\n",
            "minibatch #: 340\n",
            "minibatch #: 350\n",
            "minibatch #: 360\n",
            "minibatch #: 370\n",
            "minibatch #: 380\n",
            "minibatch #: 390\n",
            "minibatch #: 400\n",
            "minibatch #: 410\n",
            "minibatch #: 420\n",
            "minibatch #: 430\n",
            "minibatch #: 440\n",
            "minibatch #: 450\n",
            "minibatch #: 460\n",
            "minibatch #: 470\n",
            "minibatch #: 480\n",
            "minibatch #: 490\n",
            "minibatch #: 500\n",
            "minibatch #: 510\n",
            "minibatch #: 520\n",
            "minibatch #: 530\n",
            "minibatch #: 540\n",
            "minibatch #: 550\n",
            "minibatch #: 560\n",
            "minibatch #: 570\n",
            "minibatch #: 580\n",
            "minibatch #: 590\n",
            "minibatch #: 600\n",
            "minibatch #: 610\n",
            "minibatch #: 620\n",
            "minibatch #: 630\n",
            "minibatch #: 640\n",
            "minibatch #: 650\n",
            "minibatch #: 660\n",
            "minibatch #: 670\n",
            "minibatch #: 680\n",
            "minibatch #: 690\n",
            "minibatch #: 700\n",
            "minibatch #: 710\n",
            "minibatch #: 720\n",
            "minibatch #: 730\n",
            "minibatch #: 740\n",
            "minibatch #: 750\n",
            "minibatch #: 760\n",
            "minibatch #: 770\n",
            "minibatch #: 780\n",
            "minibatch #: 790\n",
            "minibatch #: 800\n",
            "minibatch #: 810\n",
            "minibatch #: 820\n",
            "minibatch #: 830\n",
            "minibatch #: 840\n",
            "minibatch #: 850\n",
            "minibatch #: 860\n",
            "minibatch #: 870\n",
            "minibatch #: 880\n",
            "minibatch #: 890\n",
            "minibatch #: 900\n",
            "minibatch #: 910\n",
            "minibatch #: 920\n",
            "minibatch #: 930\n",
            "minibatch #: 940\n",
            "minibatch #: 950\n",
            "minibatch #: 960\n",
            "minibatch #: 970\n",
            "minibatch #: 980\n",
            "minibatch #: 990\n"
          ],
          "name": "stdout"
        }
      ]
    }
  ]
}