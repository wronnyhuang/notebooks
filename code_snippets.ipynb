{
  "nbformat": 4,
  "nbformat_minor": 0,
  "metadata": {
    "colab": {
      "name": "code_snippets",
      "version": "0.3.2",
      "provenance": [],
      "collapsed_sections": [],
      "include_colab_link": true
    },
    "kernelspec": {
      "name": "python3",
      "display_name": "Python 3"
    }
  },
  "cells": [
    {
      "cell_type": "markdown",
      "metadata": {
        "id": "view-in-github",
        "colab_type": "text"
      },
      "source": [
        "[View in Colaboratory](https://colab.research.google.com/github/wronnyhuang/notebooks/blob/master/code_snippets.ipynb)"
      ]
    },
    {
      "metadata": {
        "id": "NhZLrk6hDu0L",
        "colab_type": "text"
      },
      "cell_type": "markdown",
      "source": [
        "## helpful code snippets for use in jupyter notebooks"
      ]
    },
    {
      "metadata": {
        "id": "LN_oLYGg1k6U",
        "colab_type": "code",
        "colab": {}
      },
      "cell_type": "code",
      "source": [
        "# dropbox uploader\n",
        "! curl \"https://raw.githubusercontent.com/andreafabrizi/Dropbox-Uploader/master/dropbox_uploader.sh\" -o /bin/dropbox_uploader.sh\n",
        "! chmod +x /bin/dropbox_uploader.sh\n",
        "! dropbox_uploader.sh\n",
        "! dropbox_uploader.sh list"
      ],
      "execution_count": 0,
      "outputs": []
    },
    {
      "metadata": {
        "id": "-3Tt3v0dd0ts",
        "colab_type": "code",
        "colab": {}
      },
      "cell_type": "code",
      "source": [
        "# download public link (e.g. dropbox folder) into current directory\n",
        "! curl -L https://www.dropbox.com/sh/jkg26hmcxn63xkk/AAAqxalKBkJH-1lFe4_Ydcvua?dl=0 > tmp.zip\n",
        "! unzip tmp.zip -d ."
      ],
      "execution_count": 0,
      "outputs": []
    },
    {
      "metadata": {
        "id": "zyBoVsjMnJq_",
        "colab_type": "code",
        "colab": {}
      },
      "cell_type": "code",
      "source": [
        "# tensorboard\n",
        "! git clone https://github.com/wronnyhuang/bin\n",
        "! mv bin/* /bin/ && rm -r bin\n",
        "! sh /bin/install_ngrok.sh\n",
        "! sh /bin/tboard.sh . n"
      ],
      "execution_count": 0,
      "outputs": []
    },
    {
      "metadata": {
        "id": "18Kfc5-rdh1w",
        "colab_type": "code",
        "colab": {}
      },
      "cell_type": "code",
      "source": [
        "# save trained model to disk\n",
        "saver = tf.train.Saver()\n",
        "save_path = saver.save(sess, 'log/model.ckpt')\n",
        "\n",
        "# load trianed model from disk\n",
        "saver = tf.train.Saver()\n",
        "saver.restore(sess, 'log/model.ckpt')"
      ],
      "execution_count": 0,
      "outputs": []
    },
    {
      "metadata": {
        "id": "H0OvpLVisg8-",
        "colab_type": "code",
        "colab": {}
      },
      "cell_type": "code",
      "source": [
        "# tensorboard summaries: start this after graph is defined\n",
        "\n",
        "# store data for tensorboard visualization\n",
        "tf.summary.scalar('accuracy', accuracy)\n",
        "tf.summary.scalar('cross_entropy', cross_entropy)\n",
        "merged = tf.summary.merge_all()\n",
        "\n",
        "# initialize variables and session\n",
        "sess = tf.Session()\n",
        "sess.run(tf.initialize_all_variables())\n",
        "train_writer = tf.summary.FileWriter('./log' + '/train', sess.graph)\n",
        "test_writer = tf.summary.FileWriter('./log' + '/test', sess.graph)\n",
        "\n",
        "# train the model\n",
        "for i in range(1000):\n",
        "  \n",
        "    # train step\n",
        "    batch_xs, batch_ys = mnist.train.next_batch(batch_size=100)\n",
        "    summaries, _ = sess.run([merged, train_step], feed_dict={x: batch_xs, y_: batch_ys})\n",
        "    train_writer.add_summary(summaries, i)\n",
        "\n",
        "    # test step\n",
        "    batch_xs, batch_ys = mnist.train.images, mnist.train.labels\n",
        "    summaries = sess.run(merged, feed_dict={x: batch_xs, y_: batch_ys})\n",
        "    test_writer.add_summary(summaries, i)\n"
      ],
      "execution_count": 0,
      "outputs": []
    }
  ]
}